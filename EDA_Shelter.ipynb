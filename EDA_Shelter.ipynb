{
 "cells": [
  {
   "cell_type": "code",
   "execution_count": 1,
   "metadata": {
    "collapsed": true
   },
   "outputs": [],
   "source": [
    "import numpy as np\n",
    "\n",
    "import pandas as pd\n",
    "from pandas.api.types import CategoricalDtype\n",
    "\n",
    "% matplotlib inline\n",
    "import matplotlib.pyplot as plt\n",
    "import seaborn as sns\n",
    "\n",
    "from sklearn import linear_model as lm\n",
    "from sklearn.model_selection import train_test_split\n",
    "from sklearn.model_selection import KFold\n",
    "\n",
    "# Plot settings\n",
    "plt.rcParams['figure.figsize'] = (12, 9)\n",
    "plt.rcParams['font.size'] = 12"
   ]
  },
  {
   "cell_type": "code",
   "execution_count": 3,
   "outputs": [
    {
     "name": "stdout",
     "output_type": "stream",
     "text": [
      "<class 'pandas.core.frame.DataFrame'>\n",
      "RangeIndex: 22515 entries, 0 to 22514\n",
      "Data columns (total 24 columns):\n",
      " #   Column                Non-Null Count  Dtype  \n",
      "---  ------                --------------  -----  \n",
      " 0   Name                  16683 non-null  object \n",
      " 1   Type                  22515 non-null  object \n",
      " 2   Breed                 22515 non-null  object \n",
      " 3   Color                 22515 non-null  object \n",
      " 4   Sex                   22515 non-null  object \n",
      " 5   Size                  22482 non-null  object \n",
      " 6   Date Of Birth         16978 non-null  object \n",
      " 7   Impound Number        22515 non-null  object \n",
      " 8   Kennel Number         22498 non-null  object \n",
      " 9   Animal ID             22515 non-null  object \n",
      " 10  Intake Date           22515 non-null  object \n",
      " 11  Outcome Date          22387 non-null  object \n",
      " 12  Days in Shelter       22515 non-null  int64  \n",
      " 13  Intake Type           22515 non-null  object \n",
      " 14  Intake Subtype        22515 non-null  object \n",
      " 15  Outcome Type          22382 non-null  object \n",
      " 16  Outcome Subtype       22082 non-null  object \n",
      " 17  Intake Condition      22515 non-null  object \n",
      " 18  Outcome Condition     22050 non-null  object \n",
      " 19  Intake Jurisdiction   22515 non-null  object \n",
      " 20  Outcome Jurisdiction  19355 non-null  object \n",
      " 21  Outcome Zip Code      19287 non-null  float64\n",
      " 22  Location              19287 non-null  object \n",
      " 23  Count                 22515 non-null  int64  \n",
      "dtypes: float64(1), int64(2), object(21)\n",
      "memory usage: 4.1+ MB\n"
     ]
    },
    {
     "data": {
      "text/plain": "     Name   Type         Breed        Color       Sex   Size Date Of Birth  \\\n0     NaN  OTHER       CHICKEN        BROWN    Female  SMALL           NaN   \n1     NaN  OTHER          GOAT        WHITE    Female  LARGE           NaN   \n2    REMY    DOG        BEAGLE  BLACK/WHITE    Female    MED    04/11/2014   \n3  *RONDE    DOG  CHIHUAHUA SH          TAN  Neutered  SMALL    07/24/2020   \n4  *SNOOP    CAT   DOMESTIC SH         GRAY  Neutered  SMALL    08/04/2019   \n\n  Impound Number Kennel Number Animal ID  ... Intake Subtype     Outcome Type  \\\n0     K22-040689           VET   A409950  ...          FIELD              NaN   \n1     K22-040690      AUC YARD   A409951  ...          FIELD              NaN   \n2     K21-039564          DS69   A406645  ...          PHONE  RETURN TO OWNER   \n3     K21-039133          DA30   A406003  ...          FIELD         ADOPTION   \n4     K21-039232          CA02   A406151  ...          FIELD         ADOPTION   \n\n        Outcome Subtype Intake Condition Outcome Condition  \\\n0                   NaN          UNKNOWN               NaN   \n1                   NaN          HEALTHY               NaN   \n2  OVER THE COUNTER_WEB          UNKNOWN           PENDING   \n3              SCAS WEB          HEALTHY           HEALTHY   \n4              SCAS WEB          HEALTHY           HEALTHY   \n\n  Intake Jurisdiction Outcome Jurisdiction Outcome Zip Code  \\\n0          SANTA ROSA                  NaN              NaN   \n1              COUNTY                  NaN              NaN   \n2          SANTA ROSA           SANTA ROSA          95407.0   \n3          SANTA ROSA            *PETALUMA          94954.0   \n4          SANTA ROSA           SANTA ROSA          95405.0   \n\n                        Location Count  \n0                            NaN     1  \n1                            NaN     1  \n2  95407(38.403734, -122.736775)     1  \n3   94954(38.245316, -122.59871)     1  \n4  95405(38.439152, -122.672541)     1  \n\n[5 rows x 24 columns]",
      "text/html": "<div>\n<style scoped>\n    .dataframe tbody tr th:only-of-type {\n        vertical-align: middle;\n    }\n\n    .dataframe tbody tr th {\n        vertical-align: top;\n    }\n\n    .dataframe thead th {\n        text-align: right;\n    }\n</style>\n<table border=\"1\" class=\"dataframe\">\n  <thead>\n    <tr style=\"text-align: right;\">\n      <th></th>\n      <th>Name</th>\n      <th>Type</th>\n      <th>Breed</th>\n      <th>Color</th>\n      <th>Sex</th>\n      <th>Size</th>\n      <th>Date Of Birth</th>\n      <th>Impound Number</th>\n      <th>Kennel Number</th>\n      <th>Animal ID</th>\n      <th>...</th>\n      <th>Intake Subtype</th>\n      <th>Outcome Type</th>\n      <th>Outcome Subtype</th>\n      <th>Intake Condition</th>\n      <th>Outcome Condition</th>\n      <th>Intake Jurisdiction</th>\n      <th>Outcome Jurisdiction</th>\n      <th>Outcome Zip Code</th>\n      <th>Location</th>\n      <th>Count</th>\n    </tr>\n  </thead>\n  <tbody>\n    <tr>\n      <th>0</th>\n      <td>NaN</td>\n      <td>OTHER</td>\n      <td>CHICKEN</td>\n      <td>BROWN</td>\n      <td>Female</td>\n      <td>SMALL</td>\n      <td>NaN</td>\n      <td>K22-040689</td>\n      <td>VET</td>\n      <td>A409950</td>\n      <td>...</td>\n      <td>FIELD</td>\n      <td>NaN</td>\n      <td>NaN</td>\n      <td>UNKNOWN</td>\n      <td>NaN</td>\n      <td>SANTA ROSA</td>\n      <td>NaN</td>\n      <td>NaN</td>\n      <td>NaN</td>\n      <td>1</td>\n    </tr>\n    <tr>\n      <th>1</th>\n      <td>NaN</td>\n      <td>OTHER</td>\n      <td>GOAT</td>\n      <td>WHITE</td>\n      <td>Female</td>\n      <td>LARGE</td>\n      <td>NaN</td>\n      <td>K22-040690</td>\n      <td>AUC YARD</td>\n      <td>A409951</td>\n      <td>...</td>\n      <td>FIELD</td>\n      <td>NaN</td>\n      <td>NaN</td>\n      <td>HEALTHY</td>\n      <td>NaN</td>\n      <td>COUNTY</td>\n      <td>NaN</td>\n      <td>NaN</td>\n      <td>NaN</td>\n      <td>1</td>\n    </tr>\n    <tr>\n      <th>2</th>\n      <td>REMY</td>\n      <td>DOG</td>\n      <td>BEAGLE</td>\n      <td>BLACK/WHITE</td>\n      <td>Female</td>\n      <td>MED</td>\n      <td>04/11/2014</td>\n      <td>K21-039564</td>\n      <td>DS69</td>\n      <td>A406645</td>\n      <td>...</td>\n      <td>PHONE</td>\n      <td>RETURN TO OWNER</td>\n      <td>OVER THE COUNTER_WEB</td>\n      <td>UNKNOWN</td>\n      <td>PENDING</td>\n      <td>SANTA ROSA</td>\n      <td>SANTA ROSA</td>\n      <td>95407.0</td>\n      <td>95407(38.403734, -122.736775)</td>\n      <td>1</td>\n    </tr>\n    <tr>\n      <th>3</th>\n      <td>*RONDE</td>\n      <td>DOG</td>\n      <td>CHIHUAHUA SH</td>\n      <td>TAN</td>\n      <td>Neutered</td>\n      <td>SMALL</td>\n      <td>07/24/2020</td>\n      <td>K21-039133</td>\n      <td>DA30</td>\n      <td>A406003</td>\n      <td>...</td>\n      <td>FIELD</td>\n      <td>ADOPTION</td>\n      <td>SCAS WEB</td>\n      <td>HEALTHY</td>\n      <td>HEALTHY</td>\n      <td>SANTA ROSA</td>\n      <td>*PETALUMA</td>\n      <td>94954.0</td>\n      <td>94954(38.245316, -122.59871)</td>\n      <td>1</td>\n    </tr>\n    <tr>\n      <th>4</th>\n      <td>*SNOOP</td>\n      <td>CAT</td>\n      <td>DOMESTIC SH</td>\n      <td>GRAY</td>\n      <td>Neutered</td>\n      <td>SMALL</td>\n      <td>08/04/2019</td>\n      <td>K21-039232</td>\n      <td>CA02</td>\n      <td>A406151</td>\n      <td>...</td>\n      <td>FIELD</td>\n      <td>ADOPTION</td>\n      <td>SCAS WEB</td>\n      <td>HEALTHY</td>\n      <td>HEALTHY</td>\n      <td>SANTA ROSA</td>\n      <td>SANTA ROSA</td>\n      <td>95405.0</td>\n      <td>95405(38.439152, -122.672541)</td>\n      <td>1</td>\n    </tr>\n  </tbody>\n</table>\n<p>5 rows × 24 columns</p>\n</div>"
     },
     "execution_count": 3,
     "metadata": {},
     "output_type": "execute_result"
    }
   ],
   "source": [
    "data = pd.read_csv('Data/Animal_Shelter_Intake_and_Outcome.csv')\n",
    "data.info()\n",
    "data.head()"
   ],
   "metadata": {
    "collapsed": false,
    "pycharm": {
     "name": "#%%\n"
    }
   }
  },
  {
   "cell_type": "code",
   "execution_count": null,
   "outputs": [],
   "source": [],
   "metadata": {
    "collapsed": false,
    "pycharm": {
     "name": "#%%\n"
    }
   }
  }
 ],
 "metadata": {
  "kernelspec": {
   "display_name": "Python 3",
   "language": "python",
   "name": "python3"
  },
  "language_info": {
   "codemirror_mode": {
    "name": "ipython",
    "version": 2
   },
   "file_extension": ".py",
   "mimetype": "text/x-python",
   "name": "python",
   "nbconvert_exporter": "python",
   "pygments_lexer": "ipython2",
   "version": "2.7.6"
  }
 },
 "nbformat": 4,
 "nbformat_minor": 0
}